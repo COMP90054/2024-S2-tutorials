{
  "nbformat": 4,
  "nbformat_minor": 0,
  "metadata": {
    "colab": {
      "name": "problem_set_04.ipynb",
      "provenance": [],
      "collapsed_sections": [
        "3lmkJq4t5leq"
      ],
      "toc_visible": true,
      "include_colab_link": true
    },
    "kernelspec": {
      "name": "python3",
      "display_name": "Python 3"
    },
    "language_info": {
      "name": "python"
    }
  },
  "cells": [
    {
      "cell_type": "markdown",
      "metadata": {
        "id": "view-in-github",
        "colab_type": "text"
      },
      "source": [
        "<a href=\"https://colab.research.google.com/github/COMP90054/2024-S2-tutorials/blob/main/problem_set_04.ipynb\" target=\"_parent\"><img src=\"https://colab.research.google.com/assets/colab-badge.svg\" alt=\"Open In Colab\"/></a>"
      ]
    },
    {
      "cell_type": "markdown",
      "source": [],
      "metadata": {
        "id": "xeWwoxOK4GB3"
      }
    },
    {
      "cell_type": "markdown",
      "source": [
        "# COMP90054 AI Planning for Autonomy\n",
        "### Problem Set 04 - Modeling in STRIPS and PDDL\n"
      ],
      "metadata": {
        "id": "J2X_LFKZ4Tya"
      }
    },
    {
      "cell_type": "markdown",
      "source": [
        "*Note- It is best to run this notebook on Colab(which runs an instance of linux), as the library requirements have been tested. As of now, we are aware of the issue that the `LAPKT`, Lighweight Automated Planning Toolkit, doesn't work on `macos`.*\n",
        "\n",
        "## Key takeaways\n",
        "- How to model a problem in STRIPS\n",
        "- Understand the PDDL (Problem Domain Definition Language) syntax\n",
        "- Describe the problem in PDDL\n",
        "- How to use existing online/offline planners to solve a problem, using the PDDL description of the problem\n",
        "\n",
        "\n",
        "## Recommended editors for PDDL\n",
        "\n",
        "Fully featured editors for writing problem description in PDDL language.\n",
        "\n",
        "- (Online) -  http://editor.planning.domains (Has integrateed solvers)\n",
        "- (Local) - Install PDDL extension on VSCode (Extension Id: jan-dolejsi.pddl)\n",
        "\n",
        "\n",
        "## Our recommended planners, which can solve a planning problem given the PDDL description of it\n",
        "\n",
        "\n",
        "- (Online) -  Integrated planner on http://editor.planning.domains\n",
        "- (Local) - Install `lapkt` package from `pypi` (Available for windows and linux)\n",
        "\n",
        "We use the local version of `lapkt` in this notebook."
      ],
      "metadata": {
        "id": "y3RKa5Jh5eDX"
      }
    },
    {
      "cell_type": "markdown",
      "source": [
        "# Prepare the environment"
      ],
      "metadata": {
        "id": "3lmkJq4t5leq"
      }
    },
    {
      "cell_type": "code",
      "source": [
        "!pip install lapkt==0.0.2\n",
        "!pip install func-timeout\n",
        "from IPython.display import Latex\n",
        "from func_timeout import func_timeout\n",
        "\n",
        "# Load the default planner\n",
        "from lapkt.load_planner import Planner\n",
        "\n",
        "# BFWS Planner Configuration (State of the art Satisficing Planner)\n",
        "config = {\n",
        "          'log_file': {'var_name': 'log_filename', 'value': 'log.txt'},\n",
        "          'plan_file': {'var_name': 'plan_filename', 'value': 'plan.ipc'}, # plan.ipc is the default output file for all planners\n",
        "          'planner': {'value': 'BFWS'}, # Best First Width Search, ideas of BFWS will be explained in Week 6 Lecture(Iterated Width)\n",
        "          'search_type': {'var_name': 'search', 'value': 'DUAL-BFWS'}, # configuration of BFWS\n",
        "          'max_novelty': {'var_name': 'max_novelty', 'value': 2}, # configuration of BFWS\n",
        "          'lapkt_instance_generator': {'value': 'Tarski'}, # We use tarski for parsing PDDL and grounding the lifted PDDL representation into propositional logic\n",
        "          'domain': {'value': ''},\n",
        "          'problem': {'value': ''},\n",
        "          }\n",
        "\n",
        "# BrFS Planner configuration (Optimal Planner)\n",
        "config_BRFS = {\n",
        "          'log_file': {'var_name': 'log_filename', 'value': 'log'},\n",
        "          'plan_file': {'var_name': 'plan_filename', 'value': 'plan.ipc'},\n",
        "          'planner': {'value': 'BRFS_Planner'},\n",
        "          'lapkt_instance_generator': {'value': 'Tarski'},\n",
        "          'domain': {'value': ''},\n",
        "          'problem': {'value': ''},\n",
        "        }"
      ],
      "metadata": {
        "colab": {
          "base_uri": "https://localhost:8080/"
        },
        "id": "p7CmwgDH4Q9C",
        "outputId": "6bc2c110-0186-4653-b769-f3217120b72d"
      },
      "execution_count": null,
      "outputs": [
        {
          "output_type": "stream",
          "name": "stdout",
          "text": [
            "Requirement already satisfied: lapkt==0.0.2 in /usr/local/lib/python3.7/dist-packages (0.0.2)\n",
            "Requirement already satisfied: tarski-lapkt[gringo] in /usr/local/lib/python3.7/dist-packages (from lapkt==0.0.2) (0.1.3)\n",
            "Requirement already satisfied: ruamel.yaml in /usr/local/lib/python3.7/dist-packages (from lapkt==0.0.2) (0.17.21)\n",
            "Requirement already satisfied: ruamel.yaml.clib>=0.2.6 in /usr/local/lib/python3.7/dist-packages (from ruamel.yaml->lapkt==0.0.2) (0.2.6)\n",
            "Requirement already satisfied: multipledispatch in /usr/local/lib/python3.7/dist-packages (from tarski-lapkt[gringo]->lapkt==0.0.2) (0.6.0)\n",
            "Requirement already satisfied: antlr4-python3-runtime==4.7.2 in /usr/local/lib/python3.7/dist-packages (from tarski-lapkt[gringo]->lapkt==0.0.2) (4.7.2)\n",
            "Requirement already satisfied: psutil in /usr/local/lib/python3.7/dist-packages (from tarski-lapkt[gringo]->lapkt==0.0.2) (5.4.8)\n",
            "Requirement already satisfied: clingo>=5.5.1 in /usr/local/lib/python3.7/dist-packages (from tarski-lapkt[gringo]->lapkt==0.0.2) (5.5.1)\n",
            "Requirement already satisfied: cffi in /usr/local/lib/python3.7/dist-packages (from clingo>=5.5.1->tarski-lapkt[gringo]->lapkt==0.0.2) (1.15.0)\n",
            "Requirement already satisfied: pycparser in /usr/local/lib/python3.7/dist-packages (from cffi->clingo>=5.5.1->tarski-lapkt[gringo]->lapkt==0.0.2) (2.21)\n",
            "Requirement already satisfied: six in /usr/local/lib/python3.7/dist-packages (from multipledispatch->tarski-lapkt[gringo]->lapkt==0.0.2) (1.15.0)\n",
            "Requirement already satisfied: func-timeout in /usr/local/lib/python3.7/dist-packages (4.3.5)\n"
          ]
        }
      ]
    },
    {
      "cell_type": "markdown",
      "source": [
        "# Problem 1\n",
        "\n",
        "Model Blocks-World as a STRIPS problem $P = \\langle F, O, I, G \\rangle$. You need to define the set of facts $F$ , the set of operators $O$, the goal facts $G$ and the initial facts $I$. You must also define the pre, add, and del functions."
      ],
      "metadata": {
        "id": "2-JtMA6q9dXH"
      }
    },
    {
      "cell_type": "markdown",
      "source": [
        "![blocks2.png](data:image/png;base64,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)"
      ],
      "metadata": {
        "id": "FgMWZJZCS2ME"
      }
    },
    {
      "cell_type": "markdown",
      "source": [
        "## Solution\n",
        "\n",
        "$\n",
        "F:=\\{\\}\\\\\n",
        "\\\\\n",
        "O:= \\{\\}\\\\\n",
        "\\\\\n",
        "I:=\\{\\}\\\\\n",
        "\\\\\n",
        "G:=\\{\\}\n",
        "$\n",
        "\n",
        "\n",
        "where, $B$ is the set of blocks\n"
      ],
      "metadata": {
        "id": "X24Ty-mJ-M0X"
      }
    },
    {
      "cell_type": "markdown",
      "source": [
        "### For inspiration, use the following Australian TSP example.\n",
        "\n",
        "\n",
        "It is also accessible in editor.planning.domains so you can try the solver on the cloud and edit the TSP.\n",
        "https://editor.planning.domains/#read_session=opIzISuZ5W\n",
        "\n",
        "Also. see http://www.hakank.org/pddl/ for more examples.\n"
      ],
      "metadata": {
        "id": "Imwx52rWB_TJ"
      }
    },
    {
      "cell_type": "markdown",
      "source": [
        "# Problem 2\n",
        "\n",
        "Implement your STRIPS model in PDDL. Use http://editor.planning.domains to test your model. Remember that a PDDL implementation is split between two files: a domain file (also known as an “operator” file) and a problem file (also known as a “fact” file).\n"
      ],
      "metadata": {
        "id": "Z04_XS4K-UEG"
      }
    },
    {
      "cell_type": "code",
      "source": [
        "tsp_domain=\"\"\"\n",
        ";; TSP PDDL ***Domain File***\n",
        "\n",
        "    (define (domain tsp)\n",
        "        (:requirements :typing)\n",
        "        (:types node)\n",
        "\n",
        "        ;; Define the facts in the problem\n",
        "        ;; \"?\" denotes a variable, \"-\" a type\n",
        "        (:predicates\n",
        "            (at ?pos - node)\n",
        "            (connected ?start ?end - node)\n",
        "            (visited ?end - node)\n",
        "        )\n",
        "\n",
        "        ;; Define the action(s)\n",
        "        (:action move\n",
        "            :parameters (?start ?end - node)\n",
        "            :precondition (and\n",
        "                (at ?start)\n",
        "                (connected ?start ?end)\n",
        "            )\n",
        "            :effect (and\n",
        "                (at ?end)\n",
        "                (visited ?end)\n",
        "                (not (at ?start))\n",
        "            )\n",
        "        )\n",
        "    )\n",
        "\"\"\""
      ],
      "metadata": {
        "id": "yEB43Ewnkd3Q"
      },
      "execution_count": null,
      "outputs": []
    },
    {
      "cell_type": "code",
      "source": [
        "tsp_problem=\"\"\"\n",
        ";; TSP PDDL ***Problem File***\n",
        "\n",
        "    (define (problem tsp-01)\n",
        "    (:domain tsp)\n",
        "    (:objects Sydney Adelade Brisbane Perth Darwin - node)\n",
        "\n",
        "    ;; Define the initial situation\n",
        "    (:init  (connected Sydney Brisbane)\n",
        "            (connected Brisbane Sydney)\n",
        "            (connected Adelade Sydney)\n",
        "            (connected Sydney Adelade)\n",
        "            (connected Adelade Perth)\n",
        "            (connected Perth Adelade)\n",
        "            (connected Adelade Darwin)\n",
        "            (connected Darwin Adelade)\n",
        "            (at Sydney)\n",
        "    )\n",
        "    (:goal\n",
        "            (and\n",
        "                (at Sydney)\n",
        "                (visited Sydney)\n",
        "                (visited Adelade)\n",
        "                (visited Brisbane)\n",
        "                (visited Perth)\n",
        "                (visited Darwin)\n",
        "            )\n",
        "    )\n",
        "    )\n",
        "\"\"\""
      ],
      "metadata": {
        "id": "nQsi111FkVuV"
      },
      "execution_count": null,
      "outputs": []
    },
    {
      "cell_type": "code",
      "source": [
        "# Create the PDDL domain file\n",
        "with open(\"tsp_domain.pddl\", 'w') as file:\n",
        "  file.write(tsp_domain)\n",
        "\n",
        "# Create the PDDL problem file\n",
        "with open(\"tsp_problem.pddl\", 'w') as file:\n",
        "  file.write(tsp_problem)\n",
        "\n",
        "# Set PDDL domain and problem file path in the planner configuration\n",
        "config_BRFS['domain'] = {'value': 'tsp_domain.pddl'}\n",
        "config_BRFS['problem'] = {'value': 'tsp_problem.pddl'}\n",
        "\n",
        "planner_tsp = Planner(config_BRFS)\n",
        "func_timeout(1, planner_tsp.solve, args=(), kwargs=None)\n",
        "\n",
        "print(\"\\nThe solution plan found by the planner is:\\n\")\n",
        "with open(\"plan.ipc\", 'r') as file:\n",
        "  print(file.read())"
      ],
      "metadata": {
        "id": "veyMCcetklhF"
      },
      "execution_count": null,
      "outputs": []
    },
    {
      "cell_type": "markdown",
      "source": [
        "# *Solution* - Fill the contents of the domain file and the problem file"
      ],
      "metadata": {
        "id": "3i6PnzAgIRqp"
      }
    },
    {
      "cell_type": "code",
      "source": [
        "four_action_domain=\"\"\"\n",
        ";;;;;;;;;;;;;;;;;;;;;;;;;;;;;;;;;;;;;;;;\n",
        ";;; 4 Op-blocks world\n",
        ";;;;;;;;;;;;;;;;;;;;;;;;;;;;;;;;;;;;;;;;\n",
        "\n",
        "(define (domain BLOCKS)\n",
        "  (:requirements :strips)\n",
        "  (:predicates\n",
        "\t\t...\n",
        "\t)\n",
        "\n",
        "  (:action pick-up\n",
        "\t     :parameters (?x)\n",
        "\t     :precondition (and ...)\n",
        "\t     :effect\n",
        "\t     (and\n",
        "\t\t\t \t...\n",
        "\t\t\t )\n",
        "\t)\n",
        "\n",
        "  (:action put-down\n",
        "\t     :parameters (?x)\n",
        "\t     :precondition (...)\n",
        "\t     :effect\n",
        "\t     (and\n",
        "\t\t\t \t...\n",
        "\t\t\t )\n",
        "\t)\n",
        "  (:action stack\n",
        "\t     :parameters (?x ?y)\n",
        "\t     :precondition (and ...)\n",
        "\t     :effect\n",
        "\t     (and\n",
        "\t\t\t \t...\n",
        "\t\t\t )\n",
        "\t)\n",
        "  (:action unstack\n",
        "\t     :parameters (?x ?y)\n",
        "\t     :precondition (...)\n",
        "\t     :effect\n",
        "\t     (and\n",
        "\t\t\t ...\n",
        "\t\t\t )\n",
        "\t)\n",
        ")\n",
        "\"\"\""
      ],
      "metadata": {
        "id": "PuMDvG2j_vZH"
      },
      "execution_count": null,
      "outputs": []
    },
    {
      "cell_type": "code",
      "source": [
        "four_action_problem=\"\"\"\n",
        ";;;;;;;;;;;;;;;;;;;;;;;;;;;;;;;;;;;;;;;;\n",
        ";;; 4 Op-blocks world\n",
        ";;;;;;;;;;;;;;;;;;;;;;;;;;;;;;;;;;;;;;;;\n",
        "\n",
        "(define (problem BLOCKS-example)\n",
        "(:domain BLOCKS)\n",
        "(:objects A B C)\n",
        "(:INIT ...)\n",
        "(:goal (AND ...))\n",
        ")\n",
        "\"\"\""
      ],
      "metadata": {
        "id": "fmTkeKYO_wwZ"
      },
      "execution_count": null,
      "outputs": []
    },
    {
      "cell_type": "code",
      "source": [
        "# Create the PDDL domain file\n",
        "with open(\"blocks_domain.pddl\", 'w') as file:\n",
        "  file.write(four_action_domain)\n",
        "\n",
        "# Create the PDDL problem file\n",
        "with open(\"blocks_problem.pddl\", 'w') as file:\n",
        "  file.write(four_action_problem)\n",
        "\n",
        "# Set PDDL domain and problem file path in the planner configuration\n",
        "config['domain'] = {'value': 'blocks_domain.pddl'}\n",
        "config['problem'] = {'value': 'blocks_problem.pddl'}\n",
        "\n",
        "# Note- The BFWS planner uses inadmissible heuristics. Hence, you may observe sub-optimnal plans.\n",
        "planner = Planner(config)\n",
        "func_timeout(10, planner.solve, args=(), kwargs=None)\n",
        "\n",
        "print(\"\\nThe solution plan found by the planner is:\\n\")\n",
        "with open(\"plan.ipc\", 'r') as file:\n",
        "  print(file.read())"
      ],
      "metadata": {
        "id": "X9pe4V38IQN3"
      },
      "execution_count": null,
      "outputs": []
    },
    {
      "cell_type": "markdown",
      "source": [
        "# Problem 3 (Challenge Problem)\n",
        "\n",
        "Blockworld can be modeled with only 2 actions instead of 4. The robot can pick up a block and put it down on another block (or the table) in a single action.\n",
        "\n",
        "You’ve got actions Move(Block,FromTable, ToBlock) and Move(Block, FromBlock, ToTable). You now no longer need to keep track of what the robot is holding or if the hand is empty.\n",
        "\n",
        "Implement a STRIPS model of this “2-operation” blocks-world in PDDL."
      ],
      "metadata": {
        "id": "xJ6xJ4pxFZGJ"
      }
    },
    {
      "cell_type": "markdown",
      "source": [
        "# *Solution* - Fill the contents of the domain file and the problem file"
      ],
      "metadata": {
        "id": "iLanTAnqIf-w"
      }
    },
    {
      "cell_type": "code",
      "source": [
        "two_action_domain=\"\"\"\n",
        ";;;;;;;;;;;;;;;;;;;;;;;;;;;;;;;;;;;;;;;;\n",
        ";;; 2 Op-blocks world\n",
        ";;;;;;;;;;;;;;;;;;;;;;;;;;;;;;;;;;;;;;;;\n",
        "\n",
        "(define (domain ...)\n",
        "  (:requirements :strips)\n",
        "\n",
        ")\n",
        "\"\"\""
      ],
      "metadata": {
        "id": "jxyX9-NUjQoL"
      },
      "execution_count": null,
      "outputs": []
    },
    {
      "cell_type": "code",
      "source": [
        "two_action_problem=\"\"\"\n",
        ";;;;;;;;;;;;;;;;;;;;;;;;;;;;;;;;;;;;;;;;\n",
        ";;; 2 Op-blocks world\n",
        ";;;;;;;;;;;;;;;;;;;;;;;;;;;;;;;;;;;;;;;;\n",
        "\n",
        "(define (problem ...)\n",
        "\n",
        ")\n",
        "\"\"\""
      ],
      "metadata": {
        "id": "MXT6sRAajUdn"
      },
      "execution_count": null,
      "outputs": []
    },
    {
      "cell_type": "code",
      "source": [
        "# Create the PDDL domain file\n",
        "with open(\"blocks_challenge_domain.pddl\", 'w') as file:\n",
        "  file.write(two_action_domain)\n",
        "\n",
        "# Create the PDDL problem file\n",
        "with open(\"blocks_challenge_problem.pddl\", 'w') as file:\n",
        "  file.write(two_action_problem)\n",
        "\n",
        "# Set PDDL domain and problem file path in the planner configuration\n",
        "config['domain'] = {'value': 'blocks_challenge_domain.pddl'}\n",
        "config['problem'] = {'value': 'blocks_challenge_problem.pddl'}\n",
        "\n",
        "# Note- The planner uses inadmissible heuristics. Hence, you may observe sub-optimnal plans\n",
        "planner_2 = Planner(config)\n",
        "func_timeout(10, planner_2.solve, args=(), kwargs=None)\n",
        "\n",
        "print(\"\\nThe solution plan found by the planner is:\\n\")\n",
        "with open(\"plan.ipc\", 'r') as file:\n",
        "  print(file.read())"
      ],
      "metadata": {
        "id": "6YGgLwjZIkLS"
      },
      "execution_count": null,
      "outputs": []
    },
    {
      "cell_type": "markdown",
      "source": [
        "# Visualization Tool\n",
        "\n",
        "## Planimation\n",
        "This is just to aid understanding of the problem and visualize the plan. Watch Nir's video on PDDL to understand how it works.\n",
        "\n",
        "Video - https://www.loom.com/share/203014b2444d4554b4466c4c9093501e\n"
      ],
      "metadata": {
        "id": "DRDb5JcNA8c6"
      }
    }
  ]
}