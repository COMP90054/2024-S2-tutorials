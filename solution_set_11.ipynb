{
  "cells": [
    {
      "cell_type": "markdown",
      "metadata": {
        "id": "view-in-github",
        "colab_type": "text"
      },
      "source": [
        "<a href=\"https://colab.research.google.com/github/COMP90054/2024-S2-tutorials/blob/main/solution_set_11.ipynb\" target=\"_parent\"><img src=\"https://colab.research.google.com/assets/colab-badge.svg\" alt=\"Open In Colab\"/></a>"
      ]
    },
    {
      "cell_type": "markdown",
      "metadata": {
        "id": "wtYhEJOLntKg"
      },
      "source": [
        "# COMP90054 AI Planning for Autonomy\n",
        "### Solution Set 11: Game theory\n",
        "\n",
        "\n"
      ]
    },
    {
      "cell_type": "markdown",
      "metadata": {
        "id": "gzM1qCxE1yDN"
      },
      "source": [
        "### Key concepts:\n",
        "- Normal-form games\n",
        "- Strategies and equilibria"
      ]
    },
    {
      "cell_type": "markdown",
      "metadata": {
        "id": "HCLHR5J_0mue"
      },
      "source": [
        "### Activity 1: Auctions\n",
        "\n",
        "Having done Task 1 with your tutor, you will see that the outcome is\n",
        "that the winner is the person who values the item the most, they\n",
        "will (should!) be prepared to bid their true value, and in a good\n",
        "auction, they will pay somewhere between their value and the next\n",
        "highest value.\n",
        "\n",
        "This is the purpose of auctions, which are part of the greater field\n",
        "of *mechanism design*. Mechanism designers have used game theory for\n",
        "decades to design auctions and other mechanisms to elicit the truth\n",
        "from participants. That is, to define mechanisms in which the best\n",
        "response for all players is to bid their true value.\n",
        "\n",
        "Assume that you are participating in a classic English auction, in\n",
        "which people call out bids, with each bid higher than the last,\n",
        "until nobody bids any further. The winner is the final bidder.\n",
        "\n",
        "If you value the item at \\$100, then your dominant strategy is to\n",
        "bid as low as possible, until you reach \\$100, and then stop\n",
        "bidding. This is also the dominant strategy for all participants. If\n",
        "each participant is rational (and in real auctions, they are not!)\n",
        "and follows this strategy, then the winner will be the person who\n",
        "values the item the most, and they will pay just slightly more than\n",
        "what the second-highest bidder valued the item at. The same outcome\n",
        "as the Vickrey auction.\n",
        "\n",
        "Game theory has been used to show that many different types of\n",
        "single item auction, such as English auctions, Dutch auction, and\n",
        "Vickrey auctions, lead to the same outcomes."
      ]
    },
    {
      "cell_type": "markdown",
      "metadata": {
        "id": "qAVg7eLm1K8M"
      },
      "source": [
        "### Problem 2: Strategies in Vickrey auctions\n",
        "\n",
        "The payoff matrix will look like this:\n",
        "\n",
        "\n",
        "```\n",
        "                          Bidder B (val = 51)\n",
        "                         49      50       51      52\n",
        "                             |        |        |        \n",
        "                49     .5, 1 |  0, 2  |  0, 2  |  0, 2\n",
        "  Bidder A           --------|--------|--------|-----\n",
        "  (val = 50)    50      1, 0 |  0, .5 |  0, 1  |  0, 1\n",
        "                     --------|--------|--------|-----\n",
        "                51      1, 0 |  0, 0  | -.5, 0 |  0, 0    \n",
        "                     --------|--------|--------|-----\n",
        "                52      1, 0 |  0, 0  | -1, 0  | -1, -.5\n",
        "                             |        |        |\n",
        "                           \n",
        "```\n",
        "\n",
        "For example, if Bidder A bids 50 and Bidder B bids 49, then Bidder B\n",
        "will receive 0 payoff (they won nothing), while Bidder A will\n",
        "receive 1, because they paid 49 for an item they value at 50. The\n",
        "difference is $50-49=1$, so this is their utility.\n",
        "\n",
        "Each bidder has a *weakly* dominant strategy. Consider Bidder A's reasoning process first:\n",
        "\n",
        "1.  If Bidder B plays 49, then I should play 50, 51, or 52.\n",
        "\n",
        "  If Bidder B plays 50, then I can play any strategy.\n",
        "\n",
        "  If Bidder B plays 51, then I should play 49 or 50.\n",
        "\n",
        "  If Bidder B plays 52, then I should play 49, 50, or 51.\n",
        "\n",
        "  Thus, strategy 50 is the only (pure) strategy that is not dominated by some other (pure) strategy, so that is my weakly-dominant strategy.\n",
        "\n",
        "2.  Bidder B then reasons in the same way to demonstrate that 51 is weakly dominant strategy for B.\n",
        "\n",
        "Note however, that Bidder B cannot start with the premise that Bidder A will choose 50 and then reason from here, because Bidder B does not know Bidder A's private value. This is an example of a game with *imperfect information*,\n",
        "which we will not consider any further in this subject.\n"
      ]
    },
    {
      "cell_type": "markdown",
      "metadata": {
        "id": "PLm4V9UO1Oot"
      },
      "source": [
        "### Problem 3: Equilibria in Vickrey auctions\n",
        "\n",
        "Clearly, the combination of the two weakly dominant strategies is one equilibrium, but are their others? Yes!\n",
        "\n",
        "The equilibria are at: (51, 49), (52, 49), (49, 50), (49, 51), (49, 52), (50, 51), (50, 52), (51, 50), (51, 52), (52, 50).\n",
        "\n",
        "In each of these outcomes, neither player can improve their payoff by switching their strategy."
      ]
    },
    {
      "cell_type": "markdown",
      "metadata": {
        "id": "vTBfakDJOIc1"
      },
      "source": [
        "### Problem 4: Challenge question (not covered in the workshop)\n",
        "\n",
        "Assume that a player values the item at value $v$. Their bid $b$, can be either $b=v$, $b<v$, or $b>v$.\n",
        "\n",
        "If they decide to bid $b>v$ (overbid), then one of three outcomes can occur:\n",
        "\n",
        "1.  Another player bids higher than $b$. In this case, our player would have done just as well to bid $v$, because it still would have lost anyway and received utility of 0.\n",
        "\n",
        "2.  All other players bid less than $b$. In this case, our player would have done just as well to bid $v$, because it would have won anyway and paid the next highest price.\n",
        "\n",
        "3.  At least one other player bids $b'$ such as $b > b' > v$. Now, our player wins, but pays $b'$, which is more than it values the item, and thus its utility is $v - b' < 0$. So, it would have been better off bidding $s$ and losing.\n",
        "\n",
        "A similar argument can be made for under bidding. The parallel of the third case above it that there is some bidder who bids $b'$ such that $v > b' > b$, and thus wins the auction. Our player could have won the auction by bidding $v$ instead, and only paying $b'$, thus gaining the utility $b' - v > 0$."
      ]
    },
    {
      "cell_type": "markdown",
      "metadata": {
        "id": "bp8dHajcOdJo"
      },
      "source": [
        "### Problem 5: Mixed strategies\n",
        "\n",
        "Recall the games:\n",
        "\n",
        "Game 1:\n",
        "\n",
        "```\n",
        "                      Column player\n",
        "                       L         R\n",
        "                           |\n",
        "               T   320, 40 |  40,80\n",
        "  Row             ---------|---------\n",
        "  player       B    40, 80 |  80,40\n",
        "                           |\n",
        "```\n",
        "\n",
        "Game 2:\n",
        "\n",
        "```\n",
        "                      Column player\n",
        "                       L         R\n",
        "                           |\n",
        "               T    44, 40 |  40,80\n",
        "  Row             ---------|---------\n",
        "  player       B    40, 80 |  80,40\n",
        "                           |\n",
        "```\n",
        "\n",
        "Having played the game with the tutor, what strategy did you think was the best strategy intuitively?\n",
        "\n",
        "Experiments have been done on this game, and, in the first game (payoff of 320) playing as the row play, most people play $T$ essentially all the time. In the second game (payoff of 44) playing as the row player, most people play $B$ essentially all the time.\n",
        "\n",
        "**However**, note that between the two games, the only payoff that changes is 320 to 44. Recall that in calculating mixed strategies, you should make your opponent indifferent to your moves, which means that the payoff for you is irrelevant to the probabilities that you should choose.\n",
        "\n",
        "Therefore, to calculate the strategy that the row player *should play*, we can analyse both games at the same time, because our choice should be dependent purely on making the column player indifferent and the payoffs for the column player are the same  in both games! Thus, as the row player, we should not change our strategy between the two games!\n",
        "\n",
        "Consider the moves from the perspective of the column player:\n",
        "\n",
        "$$E(L) = 40X + 80(1-X) = 80 - 40X$$\n",
        "\n",
        "$$E(R) = 80X + 40(1-X) = 40X + 40$$\n",
        "\n",
        "If $80 - 40X = 40 - 40X$ then $X = \\frac{1}{2}$\n",
        "\n",
        "Thus, in short, to make the column player indifferent, the row player should play both strategies with the same probability in both games.\n",
        "\n",
        "If in game 1 you play top with $> 50\\%$ probability, then you are falling right into column player's hands: the column player should simply play $L$ with probability $\\frac{1}{8}$ to ensure that you get the payoff of 40 most of the time:\n",
        "\n",
        "$$E(T) = 320Y + 40(1-Y) = 280Y + 40$$\n",
        "\n",
        "$$E(B) = 40Y + 80(1-Y) = 80 - 40Y$$\n",
        "\n",
        "If $280Y + 40 = 80 - 40Y$ then $320Y = 40$ and $Y = \\frac{1}{8}$ (and therefore ($1-Y = \\frac{7}{8})$.\n",
        "\n",
        "So, even though our own payoffs move from 320 to 44 between the two games, the best strategy for the row player is the same in both games.\n",
        "\n",
        "I think this is awesome!"
      ]
    }
  ],
  "metadata": {
    "colab": {
      "collapsed_sections": [
        "HJLiN8UdxEF-"
      ],
      "name": "problem_set_10.ipynb",
      "provenance": [],
      "toc_visible": true,
      "include_colab_link": true
    },
    "kernelspec": {
      "display_name": "Python 3",
      "name": "python3"
    },
    "language_info": {
      "name": "python"
    }
  },
  "nbformat": 4,
  "nbformat_minor": 0
}