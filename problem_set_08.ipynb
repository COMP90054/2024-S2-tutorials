{
  "cells": [
    {
      "cell_type": "markdown",
      "metadata": {
        "id": "view-in-github",
        "colab_type": "text"
      },
      "source": [
        "<a href=\"https://colab.research.google.com/github/COMP90054/2024-S2-tutorials/blob/main/problem_set_08.ipynb\" target=\"_parent\"><img src=\"https://colab.research.google.com/assets/colab-badge.svg\" alt=\"Open In Colab\"/></a>"
      ]
    },
    {
      "cell_type": "markdown",
      "metadata": {
        "id": "J2X_LFKZ4Tya"
      },
      "source": [
        "# COMP90054 AI Planning for Autonomy\n",
        "### Problem Set 08 - Temporal difference learning"
      ]
    },
    {
      "cell_type": "markdown",
      "metadata": {
        "id": "y3RKa5Jh5eDX"
      },
      "source": [
        "\n",
        "## Key takeaways\n",
        "- Understand the basics of Q-learning and SARSA\n",
        "- Compare and contrast on-policy vs off-policy learning"
      ]
    },
    {
      "cell_type": "markdown",
      "metadata": {
        "id": "MsPz8S6XH_HW"
      },
      "source": [
        "### Background:\n",
        "\n",
        "Recall the following description from Problem Set 7.\n",
        "\n",
        "Consider two football-playing robots: Messi and Suarez.\n",
        "\n",
        "They play a simple two-player cooperate game of football, and you need to write a controller for them. Each player can pass the ball or can shoot at goal.\n",
        "\n",
        " The football game can be modelled as a discounted-reward MDP with three states: $Messi$, $Suarez$ (denoting who has the ball), and $Scored$ (denoting that a goal has been scored); and the following action descriptions:\n",
        "\n",
        "- If Messi shoots, he has 0.2 chance of scoring a goal and a 0.8 chance of the ball going to Suarez. Shooting towards the goal incurs a cost of 2 (or a reward of -2).\n",
        "\n",
        "- If Suarez shoots, he has 0.6 chance of scoring a goal and a 0.4 chance of the ball going to Messi. Shooting towards the goal incurs a cost of 2 (or a reward of -2).\n",
        "\n",
        "- If either player passes, the ball will reach its intended target with a probability of 1.0. Passing the ball incurs a cost 1 (or a reward of -1).\n",
        "\n",
        "- If a goal is scored, the only action is to return the ball to Messi, which has a probability of 1.0 and has a reward of 2. Thus the reward for scoring is modelled by giving a reward of 2 when **leaving** the goal state.\n",
        "\n",
        "The following diagram shows the transition probabilities and rewards:\n",
        "\n",
        "![football-mdp.png](data:image/png;base64,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)"
      ]
    },
    {
      "cell_type": "markdown",
      "metadata": {
        "id": "2-JtMA6q9dXH"
      },
      "source": [
        "# Problem 1. Comparing Q-learning and SARSA\n",
        "\n",
        "Explain the difference between Sarsa and Q-learning."
      ]
    },
    {
      "cell_type": "markdown",
      "metadata": {
        "id": "yfNCvr5fSf9G"
      },
      "source": [
        "# Problem 2. Q-learning\n",
        "\n",
        "Assume the following Q-table, which is learnt after several\n",
        "    episodes:\n",
        "\n",
        "\n",
        "\n",
        "State  | Pass | Shoot  | Return\n",
        "-------|------|--------|----\n",
        "Messi   |-0.4 | -0.8   | --\n",
        "Suarez  |-0.7 | -0.2   | --\n",
        "Scored  | --  | --     | 1.2\n",
        "\n",
        "\n",
        "In the next step of the episode, from the state 'Suarez', Suarez passes the ball to Messi. Show the Q-learning update for this action using a discount factor $\\gamma=0.9$ and learning rate $\\alpha=0.4$.\n",
        "\n",
        "**Note**: Assume that this is a model-free problem, so the transition probabilities are not accessible to your algorithm."
      ]
    },
    {
      "cell_type": "markdown",
      "metadata": {
        "id": "ZuS8KffPkAGy"
      },
      "source": [
        "# Problem 3. SARSA\n",
        "\n",
        "Consider again being in the state 'Suarez', Suarez passes the ball to Messi and then Messi decides to shoot. Show the SARSA update for the Pass action using a discount factor $\\gamma=0.9$ and learning rate $\\alpha=0.4$ and assuming $a'$ (the next action to be execute) is $Shoot$. Compare to the Q-learning update. What is different?"
      ]
    },
    {
      "cell_type": "markdown",
      "metadata": {
        "id": "9RIxF4dW1FWS"
      },
      "source": [
        "# Problem 4. N-step TD (SARSA)\n",
        "\n",
        "Given the following trace from a historical  game feed from last season:\n",
        "\"Suarez passes the ball to Messi, Messi dribbles around all of his opponents, shoots and scores yet another goal! Barcelona F.C 10 - 0 Real Madrid! The ball is returned to Messi for kickoff. After he passes the ball to Suarez, the referee blew the final whistle. End of the game, the ball is taken by Messi to remember the match forever.\"\n",
        "\n",
        "  Show the 3-step SARSA update for the above feed. Do you think the 1-step update is more accurate or the 3-step update? Does it indicate more steps is always better? Explain why."
      ]
    }
  ],
  "metadata": {
    "colab": {
      "collapsed_sections": [
        "3lmkJq4t5leq",
        "XZ5g9O0YkRh9",
        "wG944kJfyY6W",
        "XXsWjjW6dMnu",
        "mGa1LxTLyf1R",
        "Z04_XS4K-UEG",
        "JaGb4OghItsc",
        "fqy5UkqMPM-Z",
        "xJ6xJ4pxFZGJ",
        "HELVnL-SrHEp"
      ],
      "name": "problem_set_08.ipynb",
      "provenance": [],
      "toc_visible": true,
      "include_colab_link": true
    },
    "kernelspec": {
      "display_name": "Python 3",
      "name": "python3"
    },
    "language_info": {
      "name": "python"
    }
  },
  "nbformat": 4,
  "nbformat_minor": 0
}