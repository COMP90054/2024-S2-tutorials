{
  "cells": [
    {
      "cell_type": "markdown",
      "metadata": {
        "id": "view-in-github",
        "colab_type": "text"
      },
      "source": [
        "<a href=\"https://colab.research.google.com/github/COMP90054/2024-S2-tutorials/blob/main/problem_set_11.ipynb\" target=\"_parent\"><img src=\"https://colab.research.google.com/assets/colab-badge.svg\" alt=\"Open In Colab\"/></a>"
      ]
    },
    {
      "cell_type": "markdown",
      "metadata": {
        "id": "wtYhEJOLntKg"
      },
      "source": [
        "# COMP90054 AI Planning for Autonomy\n",
        "### Problem Set 11: Game theory\n",
        "\n",
        "\n"
      ]
    },
    {
      "cell_type": "markdown",
      "metadata": {
        "id": "gzM1qCxE1yDN"
      },
      "source": [
        "### Key concepts:\n",
        "- Normal-form games\n",
        "- Strategies and equilibria"
      ]
    },
    {
      "cell_type": "markdown",
      "metadata": {
        "id": "HJLiN8UdxEF-"
      },
      "source": [
        "### Auctions\n",
        "Auctions are a classic example of game theory at work. Although the analysis of auctions is more advanced than what we have looked at in this subject --- mainly because the set of strategies (the bids) is so large ---, we can paint a picture of how they work.\n",
        "\n",
        "Probably most of you are familiar with the concept of an *English\n",
        "auction*, in which the bidding starts at a price and bids are\n",
        "incremented until nobody wants to bid any higher. The winner is the\n",
        "person who bids the highest.\n",
        "\n",
        "But how many of you have heard of *Dutch auctions*? This is where\n",
        "the bidding starts at a (presumably high value) and the auctioneer\n",
        "*decrements* the bids by a certain amount. The first bidder to\n",
        "signal wins the auction at that price.\n",
        "\n",
        "Another common form of auction is a *Vickrey auction*, also known as\n",
        "a *sealed-bid, second-price auction*. In Vickrey auctions, each\n",
        "bidder submits a single bid privately to the auctioneer, and the\n",
        "person with the highest bid wins. However, they only pay what the\n",
        "price of the second-highest bid.\n",
        "\n",
        "Why do they only pay the second-highest bid? To eliminate the\n",
        "dreaded \"*winner's curse*\", which essentially is that if you pay\n",
        "more than anyone else in a market, then you must have overpaid,\n",
        "because you cannot possibly turn around and sell that item back to\n",
        "the same market for what you paid for it (otherwise someone else\n",
        "would have bid for it). However, if you only pay the second-price,\n",
        "then you could (in theory) sell the item to the second-highest\n",
        "bidder for what you paid for it."
      ]
    },
    {
      "cell_type": "markdown",
      "metadata": {
        "id": "HCLHR5J_0mue"
      },
      "source": [
        "### Activity 1: Auctions\n",
        "\n",
        "\n",
        "For the first task in the workshop, your tutor will lead you through\n",
        "some auction exercises."
      ]
    },
    {
      "cell_type": "markdown",
      "metadata": {
        "id": "qAVg7eLm1K8M"
      },
      "source": [
        "### Problem 2: Strategies in Vickrey auctions\n",
        "\n",
        "Consider a Vickrey auction between two bidders, Bidder A and Bidder\n",
        "B, who each value the item at \\$50 and \\$51 respectively. Assume\n",
        "that the buyer has no reserve price.\n",
        "\n",
        "Are there (weakly or strictly) dominant strategies for these two\n",
        "bidders? If so, what are they? To simplify your analysis, assume\n",
        "that bids can only be whole numbers between 49 and 52.\n",
        "\n",
        "Below is a normal form game matrix to represent the possible actions and outcome spaces.\n",
        "\n",
        "\n",
        "```\n",
        "                      Bidder B (val = 51)\n",
        "                       49  |  50  |  51  |  52\n",
        "                49         |      |      |\n",
        "  Bidder A           ------|------|------|-----\n",
        "  (val = 50)    50         |      |      |   \n",
        "                     ------|------|------|-----\n",
        "                51         |      |      |   \n",
        "                     ------|------|------|-----\n",
        "                52         |      |      |   \n",
        "                           |      |      |\n",
        "                           \n",
        "```\n",
        "\n"
      ]
    },
    {
      "cell_type": "markdown",
      "metadata": {
        "id": "PLm4V9UO1Oot"
      },
      "source": [
        "### Problem 3: Equilibria in Vickrey auctions\n",
        "\n",
        "What are the equilibrium states in the simplified Vickrey auction in Problem 2?"
      ]
    },
    {
      "cell_type": "markdown",
      "metadata": {
        "id": "vTBfakDJOIc1"
      },
      "source": [
        "### Problem 4: Challenge question (not covered in the workshop)\n",
        "\n",
        "Using the concepts introduced in lectures, can you argue what the (weakly) dominant strategy is for each bidder in a Vickrey auction for $N$ number of players and any value? For simplicity, assume that no two bidders have the same private value (in practice this is not much more difficult to reason about)."
      ]
    },
    {
      "cell_type": "markdown",
      "metadata": {
        "id": "bp8dHajcOdJo"
      },
      "source": [
        "### Problem 5: Mixed strategies\n",
        "\n",
        "Consider the following two games, and assume that you are playing as the Row player.\n",
        "\n",
        "Game 1:\n",
        "\n",
        "```\n",
        "                      Column player\n",
        "                       L         R\n",
        "                           |\n",
        "               T   320, 40 |  40,80\n",
        "  Row             ---------|---------\n",
        "  player       B    40, 80 |  80,40\n",
        "                           |\n",
        "```\n",
        "\n",
        "Game 2:\n",
        "\n",
        "```\n",
        "                      Column player\n",
        "                       L         R\n",
        "                           |\n",
        "               T    44, 40 |  40,80\n",
        "  Row             ---------|---------\n",
        "  player       B    40, 80 |  80,40\n",
        "                           |\n",
        "```\n",
        "\n",
        "Note that the only difference between the two games is the payoff 320 vs. 44 in the top-left cell.\n",
        "\n",
        "By just looking at the payoffs, try to guess which strategy you should choose in each game?\n",
        "\n",
        "Now, calculate the mixed strategy that both players should play in both of these games. How close was your intuition to the mixed strategy that you calculated?"
      ]
    }
  ],
  "metadata": {
    "colab": {
      "collapsed_sections": [
        "HJLiN8UdxEF-"
      ],
      "name": "problem_set_10.ipynb",
      "provenance": [],
      "toc_visible": true,
      "include_colab_link": true
    },
    "kernelspec": {
      "display_name": "Python 3",
      "name": "python3"
    },
    "language_info": {
      "name": "python"
    }
  },
  "nbformat": 4,
  "nbformat_minor": 0
}